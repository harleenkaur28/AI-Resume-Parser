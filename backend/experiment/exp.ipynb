{
 "cells": [
  {
   "cell_type": "code",
   "execution_count": 54,
   "id": "315c0e66",
   "metadata": {},
   "outputs": [
    {
     "data": {
      "text/plain": [
       "True"
      ]
     },
     "execution_count": 54,
     "metadata": {},
     "output_type": "execute_result"
    }
   ],
   "source": [
    "from langchain_google_genai import ChatGoogleGenerativeAI\n",
    "from langgraph.graph import StateGraph, START, END, MessagesState\n",
    "from langgraph.prebuilt import ToolNode, tools_condition\n",
    "from dotenv import load_dotenv\n",
    "\n",
    "load_dotenv()"
   ]
  },
  {
   "cell_type": "code",
   "execution_count": 55,
   "id": "27a963ce",
   "metadata": {},
   "outputs": [
    {
     "data": {
      "text/plain": [
       "{'query': 'What happened at the last wimbledon',\n",
       " 'follow_up_questions': None,\n",
       " 'answer': None,\n",
       " 'images': [],\n",
       " 'results': [{'url': 'https://www.cnn.com/sport/live-news/wimbledon-final-mens-25-07-13-spt',\n",
       "   'title': 'Wimbledon final highlights: Jannik Sinner beats Carlos Alcaraz - CNN',\n",
       "   'content': \"Wimbledon live updates: Carlos Alcaraz takes on Jannik Sinner in men’s singles final | CNN • **Top tennis stars facing off:** Two-time reigning champion Carlos Alcaraz and world No. 1 Jannik Sinner are locked in a tight Wimbledon men’s singles final. Image 20: Carlos Alcaraz serves to Jannik Sinner early in the match. Image 27: Carlos Alcaraz celebrates after winning the men's final at Roland Garros against Jannik Sinner. Image 40: Jannik Sinner, left, and Carlos Alcaraz will face off in Sunday's Wimbledon final. After defeating Jannik Sinner in a marathon final at Roland Garros five weeks ago, Carlos Alcaraz came into Wimbledon arguably looking like the player to beat.\",\n",
       "   'score': 0.31434566,\n",
       "   'raw_content': None},\n",
       "  {'url': 'https://www.nytimes.com/athletic/live-blogs/wimbledon-2025-live-updates-mens-final-score-result/2FEDhLkXgkxT/',\n",
       "   'title': 'How Jannik Sinner beat Carlos Alcaraz to win Wimbledon',\n",
       "   'content': 'How Jannik Sinner beat Carlos Alcaraz to win Wimbledon - The Athletic Jannik Sinner claimed his first Wimbledon title by beating Carlos Alcaraz in four sets in another pulsating Grand Slam final Image 6: How Jannik Sinner beat Carlos Alcaraz to win Wimbledon **Jannik Sinner fought back to beat defending champion Carlos Alcaraz in four sets and win Wimbledon for the first time in his career.** Jannik Sinner prevailed over Carlos Alcaraz in a tight match ultimately decided by two stunning set points, Alcaraz’s grass tools malfunctioning and Sinner’s steadiness behind and against second serves. Image 21Image 22: Get it on Google Play GO FURTHER Wimbledon final: Jannik Sinner beats Carlos Alcaraz to win first Wimbledon title',\n",
       "   'score': 0.124521665,\n",
       "   'raw_content': None},\n",
       "  {'url': 'https://www.nbcnews.com/sports/tennis/novak-djokovic-grand-slam-wimbledon-final-rcna217887',\n",
       "   'title': \"Novak Djokovic's Grand Slam title drought continues after ...\",\n",
       "   'content': 'This Cookie Notice (“Notice”) explains how NBCUniversal and its affiliates (“NBCUniversal” or “we”), along with our partners, including advertisers and vendors, use cookies and similar tracking technologies when you use our websites, applications, such as games, interactive TV, voice-activated assistants, and other services that link to this policy, as well as connected devices, including those used in our theme parks (“Services”). **Ad Selection and Delivery Cookies:** These Cookies are used to collect data about your browsing habits, your use of the Services, your preferences, and your interaction with advertisements across platforms and devices for the purpose of delivering interest-based advertising content on the Services and on third-party sites.',\n",
       "   'score': 0.09411855,\n",
       "   'raw_content': None}],\n",
       " 'response_time': 1.67}"
      ]
     },
     "execution_count": 55,
     "metadata": {},
     "output_type": "execute_result"
    }
   ],
   "source": [
    "from langchain_tavily import TavilySearch\n",
    "tavily_search_tool = TavilySearch(\n",
    "    max_results=3,\n",
    "    topic=\"general\",\n",
    ")\n",
    "\n",
    "tavily_search_tool.invoke({\"query\": \"What happened at the last wimbledon\"})"
   ]
  },
  {
   "cell_type": "code",
   "execution_count": 56,
   "id": "8a83d4e1",
   "metadata": {},
   "outputs": [],
   "source": [
    "tools=[tavily_search_tool]"
   ]
  },
  {
   "cell_type": "code",
   "execution_count": 57,
   "id": "ca99758a",
   "metadata": {},
   "outputs": [],
   "source": [
    "system_prompt = (\n",
    "    \"You are a knowledgeable and helpful assistant. \"\n",
    "    \"Answer the user's question using your own understanding. \"\n",
    "    \"If needed, you may also use the available tools to provide a more accurate or detailed response.\"\n",
    ")"
   ]
  },
  {
   "cell_type": "code",
   "execution_count": 58,
   "id": "91138143",
   "metadata": {},
   "outputs": [],
   "source": [
    "model=ChatGoogleGenerativeAI(model=\"gemini-2.0-flash\")\n",
    "model_with_tools=model.bind_tools(tools)"
   ]
  },
  {
   "cell_type": "code",
   "execution_count": 59,
   "id": "3573090c",
   "metadata": {},
   "outputs": [],
   "source": [
    "def agent_function(state: MessagesState):\n",
    "    \"\"\"Agent Function\"\"\"\n",
    "    user_question = state[\"messages\"] \n",
    "    input_question = [system_prompt] + user_question  \n",
    "    response = model_with_tools.invoke(input_question)\n",
    "\n",
    "    return {\"messages\": [response]}"
   ]
  },
  {
   "cell_type": "code",
   "execution_count": 60,
   "id": "a5274d3a",
   "metadata": {},
   "outputs": [
    {
     "data": {
      "image/png": "[encoded data removed]",
      "text/plain": [
       "<langgraph.graph.state.CompiledStateGraph object at 0x10eee4e50>"
      ]
     },
     "execution_count": 60,
     "metadata": {},
     "output_type": "execute_result"
    }
   ],
   "source": [
    "graph_builder= StateGraph(MessagesState)\n",
    "graph_builder.add_node(\"agent\", agent_function)\n",
    "graph_builder.add_node(\"tools\", ToolNode(tools=tools))\n",
    "graph_builder.add_edge(START,\"agent\")\n",
    "graph_builder.add_conditional_edges(\"agent\",tools_condition)\n",
    "graph_builder.add_edge(\"tools\",\"agent\")\n",
    "graph_builder.add_edge(\"agent\",END)\n",
    "graph = graph_builder.compile()\n",
    "\n",
    "graph"
   ]
  },
  {
   "cell_type": "code",
   "execution_count": 61,
   "id": "49a89bbe",
   "metadata": {},
   "outputs": [
    {
     "name": "stdout",
     "output_type": "stream",
     "text": [
      "{'messages': [HumanMessage(content='what are black holes?', additional_kwargs={}, response_metadata={}, id='eff357c0-c373-4004-bf1d-3d646fa6a314'), AIMessage(content='Black holes are fascinating and mysterious objects in space. Here\\'s a breakdown of what they are:\\n\\n*   **Formation:** They\\'re typically formed when massive stars die. When a star runs out of fuel, it can collapse in on itself. If the star is massive enough, this collapse results in a black hole.\\n*   **Gravity:** Black holes have incredibly strong gravity. This gravity is so intense that nothing, not even light, can escape once it crosses a certain boundary called the event horizon.\\n*   **Event Horizon:** The event horizon is essentially the \"point of no return.\" Anything that crosses it is pulled into the black hole and cannot escape.\\n*   **Singularity:** At the center of a black hole is the singularity, a point where all the mass is concentrated. Our current understanding of physics breaks down at the singularity.\\n*   **Detection:** Since light can\\'t escape, we can\\'t directly see black holes. However, we can detect them by observing their effects on surrounding matter. For example, if a black hole is orbiting a star, it can pull matter away from the star, forming a swirling disk of superheated gas that emits radiation.\\n\\nIf you\\'d like, I can use a search tool to find recent news or discoveries related to black holes.', additional_kwargs={}, response_metadata={'prompt_feedback': {'block_reason': 0, 'safety_ratings': []}, 'finish_reason': 'STOP', 'model_name': 'gemini-2.0-flash', 'safety_ratings': []}, id='run--ae425a05-8b02-4263-b000-742ed2e83b9e-0', usage_metadata={'input_tokens': 1134, 'output_tokens': 269, 'total_tokens': 1403, 'input_token_details': {'cache_read': 0}})]}\n"
     ]
    }
   ],
   "source": [
    "response = graph.invoke({\"messages\": [\"what are black holes?\"]})\n",
    "print(response)"
   ]
  },
  {
   "cell_type": "code",
   "execution_count": 62,
   "id": "b30b0b7e",
   "metadata": {},
   "outputs": [
    {
     "data": {
      "text/plain": [
       "'Black holes are fascinating and mysterious objects in space. Here\\'s a breakdown of what they are:\\n\\n*   **Formation:** They\\'re typically formed when massive stars die. When a star runs out of fuel, it can collapse in on itself. If the star is massive enough, this collapse results in a black hole.\\n*   **Gravity:** Black holes have incredibly strong gravity. This gravity is so intense that nothing, not even light, can escape once it crosses a certain boundary called the event horizon.\\n*   **Event Horizon:** The event horizon is essentially the \"point of no return.\" Anything that crosses it is pulled into the black hole and cannot escape.\\n*   **Singularity:** At the center of a black hole is the singularity, a point where all the mass is concentrated. Our current understanding of physics breaks down at the singularity.\\n*   **Detection:** Since light can\\'t escape, we can\\'t directly see black holes. However, we can detect them by observing their effects on surrounding matter. For example, if a black hole is orbiting a star, it can pull matter away from the star, forming a swirling disk of superheated gas that emits radiation.\\n\\nIf you\\'d like, I can use a search tool to find recent news or discoveries related to black holes.'"
      ]
     },
     "execution_count": 62,
     "metadata": {},
     "output_type": "execute_result"
    }
   ],
   "source": [
    "response['messages'][-1].content"
   ]
  }
 ],
 "metadata": {
  "kernelspec": {
   "display_name": "venv",
   "language": "python",
   "name": "python3"
  },
  "language_info": {
   "codemirror_mode": {
    "name": "ipython",
    "version": 3
   },
   "file_extension": ".py",
   "mimetype": "text/x-python",
   "name": "python",
   "nbconvert_exporter": "python",
   "pygments_lexer": "ipython3",
   "version": "3.11.5"
  }
 },
 "nbformat": 4,
 "nbformat_minor": 5
}
