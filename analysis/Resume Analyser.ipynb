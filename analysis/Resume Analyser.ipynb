{
 "cells": [
  {
   "cell_type": "code",
   "execution_count": 1,
   "id": "cf81f5c0",
   "metadata": {},
   "outputs": [],
   "source": [
    "import numpy as np\n",
    "import pandas as pd\n",
    "import matplotlib.pyplot as plt\n",
    "import seaborn as sns"
   ]
  },
  {
   "cell_type": "code",
   "execution_count": 2,
   "id": "aea1955c",
   "metadata": {},
   "outputs": [],
   "source": [
    "df= pd.read_csv('UpdatedResumeDataSet.csv')"
   ]
  },
  {
   "cell_type": "code",
   "execution_count": 3,
   "id": "4073ee75",
   "metadata": {},
   "outputs": [
    {
     "data": {
      "text/html": [
       "<div>\n",
       "<style scoped>\n",
       "    .dataframe tbody tr th:only-of-type {\n",
       "        vertical-align: middle;\n",
       "    }\n",
       "\n",
       "    .dataframe tbody tr th {\n",
       "        vertical-align: top;\n",
       "    }\n",
       "\n",
       "    .dataframe thead th {\n",
       "        text-align: right;\n",
       "    }\n",
       "</style>\n",
       "<table border=\"1\" class=\"dataframe\">\n",
       "  <thead>\n",
       "    <tr style=\"text-align: right;\">\n",
       "      <th></th>\n",
       "      <th>Category</th>\n",
       "      <th>Resume</th>\n",
       "    </tr>\n",
       "  </thead>\n",
       "  <tbody>\n",
       "    <tr>\n",
       "      <th>0</th>\n",
       "      <td>Data Science</td>\n",
       "      <td>Skills * Programming Languages: Python (pandas...</td>\n",
       "    </tr>\n",
       "    <tr>\n",
       "      <th>1</th>\n",
       "      <td>Data Science</td>\n",
       "      <td>Education Details \\r\\nMay 2013 to May 2017 B.E...</td>\n",
       "    </tr>\n",
       "    <tr>\n",
       "      <th>2</th>\n",
       "      <td>Data Science</td>\n",
       "      <td>Areas of Interest Deep Learning, Control Syste...</td>\n",
       "    </tr>\n",
       "    <tr>\n",
       "      <th>3</th>\n",
       "      <td>Data Science</td>\n",
       "      <td>Skills â¢ R â¢ Python â¢ SAP HANA â¢ Table...</td>\n",
       "    </tr>\n",
       "    <tr>\n",
       "      <th>4</th>\n",
       "      <td>Data Science</td>\n",
       "      <td>Education Details \\r\\n MCA   YMCAUST,  Faridab...</td>\n",
       "    </tr>\n",
       "  </tbody>\n",
       "</table>\n",
       "</div>"
      ],
      "text/plain": [
       "       Category                                             Resume\n",
       "0  Data Science  Skills * Programming Languages: Python (pandas...\n",
       "1  Data Science  Education Details \\r\\nMay 2013 to May 2017 B.E...\n",
       "2  Data Science  Areas of Interest Deep Learning, Control Syste...\n",
       "3  Data Science  Skills â¢ R â¢ Python â¢ SAP HANA â¢ Table...\n",
       "4  Data Science  Education Details \\r\\n MCA   YMCAUST,  Faridab..."
      ]
     },
     "execution_count": 3,
     "metadata": {},
     "output_type": "execute_result"
    }
   ],
   "source": [
    "df.head()"
   ]
  },
  {
   "cell_type": "code",
   "execution_count": 4,
   "id": "012f0422",
   "metadata": {},
   "outputs": [
    {
     "data": {
      "text/plain": [
       "(962, 2)"
      ]
     },
     "execution_count": 4,
     "metadata": {},
     "output_type": "execute_result"
    }
   ],
   "source": [
    "df.shape"
   ]
  },
  {
   "cell_type": "code",
   "execution_count": 5,
   "id": "2f216883",
   "metadata": {},
   "outputs": [
    {
     "data": {
      "text/plain": [
       "Category\n",
       "Java Developer               84\n",
       "Testing                      70\n",
       "DevOps Engineer              55\n",
       "Python Developer             48\n",
       "Web Designing                45\n",
       "HR                           44\n",
       "Hadoop                       42\n",
       "Blockchain                   40\n",
       "ETL Developer                40\n",
       "Operations Manager           40\n",
       "Data Science                 40\n",
       "Sales                        40\n",
       "Mechanical Engineer          40\n",
       "Arts                         36\n",
       "Database                     33\n",
       "Electrical Engineering       30\n",
       "Health and fitness           30\n",
       "PMO                          30\n",
       "Business Analyst             28\n",
       "DotNet Developer             28\n",
       "Automation Testing           26\n",
       "Network Security Engineer    25\n",
       "SAP Developer                24\n",
       "Civil Engineer               24\n",
       "Advocate                     20\n",
       "Name: count, dtype: int64"
      ]
     },
     "execution_count": 5,
     "metadata": {},
     "output_type": "execute_result"
    }
   ],
   "source": [
    "df['Category'].value_counts()"
   ]
  },
  {
   "cell_type": "code",
   "execution_count": 6,
   "id": "0a1e3860",
   "metadata": {},
   "outputs": [
    {
     "data": {
      "image/png": "[encoded data removed]",
      "text/plain": [
       "<Figure size 640x480 with 1 Axes>"
      ]
     },
     "metadata": {},
     "output_type": "display_data"
    }
   ],
   "source": [
    "plt.figure()\n",
    "sns.countplot(df['Category'])\n",
    "plt.show()"
   ]
  },
  {
   "cell_type": "code",
   "execution_count": 7,
   "id": "185cba09",
   "metadata": {},
   "outputs": [],
   "source": [
    "counts = df['Category'].value_counts()\n",
    "labels = df['Category'].unique()"
   ]
  },
  {
   "cell_type": "code",
   "execution_count": null,
   "id": "f5f4c0e9",
   "metadata": {},
   "outputs": [],
   "source": []
  },
  {
   "cell_type": "code",
   "execution_count": 8,
   "id": "4378a854",
   "metadata": {},
   "outputs": [
    {
     "data": {
      "text/plain": [
       "'Data Science'"
      ]
     },
     "execution_count": 8,
     "metadata": {},
     "output_type": "execute_result"
    }
   ],
   "source": [
    "df['Category'][0]"
   ]
  },
  {
   "cell_type": "code",
   "execution_count": 9,
   "id": "6d8660de",
   "metadata": {},
   "outputs": [
    {
     "data": {
      "text/plain": [
       "'Skills * Programming Languages: Python (pandas, numpy, scipy, scikit-learn, matplotlib), Sql, Java, JavaScript/JQuery. * Machine learning: Regression, SVM, NaÃ¯ve Bayes, KNN, Random Forest, Decision Trees, Boosting techniques, Cluster Analysis, Word Embedding, Sentiment Analysis, Natural Language processing, Dimensionality reduction, Topic Modelling (LDA, NMF), PCA & Neural Nets. * Database Visualizations: Mysql, SqlServer, Cassandra, Hbase, ElasticSearch D3.js, DC.js, Plotly, kibana, matplotlib, ggplot, Tableau. * Others: Regular Expression, HTML, CSS, Angular 6, Logstash, Kafka, Python Flask, Git, Docker, computer vision - Open CV and understanding of Deep learning.Education Details \\r\\n\\r\\nData Science Assurance Associate \\r\\n\\r\\nData Science Assurance Associate - Ernst & Young LLP\\r\\nSkill Details \\r\\nJAVASCRIPT- Exprience - 24 months\\r\\njQuery- Exprience - 24 months\\r\\nPython- Exprience - 24 monthsCompany Details \\r\\ncompany - Ernst & Young LLP\\r\\ndescription - Fraud Investigations and Dispute Services   Assurance\\r\\nTECHNOLOGY ASSISTED REVIEW\\r\\nTAR (Technology Assisted Review) assists in accelerating the review process and run analytics and generate reports.\\r\\n* Core member of a team helped in developing automated review platform tool from scratch for assisting E discovery domain, this tool implements predictive coding and topic modelling by automating reviews, resulting in reduced labor costs and time spent during the lawyers review.\\r\\n* Understand the end to end flow of the solution, doing research and development for classification models, predictive analysis and mining of the information present in text data. Worked on analyzing the outputs and precision monitoring for the entire tool.\\r\\n* TAR assists in predictive coding, topic modelling from the evidence by following EY standards. Developed the classifier models in order to identify \"red flags\" and fraud-related issues.\\r\\n\\r\\nTools & Technologies: Python, scikit-learn, tfidf, word2vec, doc2vec, cosine similarity, NaÃ¯ve Bayes, LDA, NMF for topic modelling, Vader and text blob for sentiment analysis. Matplot lib, Tableau dashboard for reporting.\\r\\n\\r\\nMULTIPLE DATA SCIENCE AND ANALYTIC PROJECTS (USA CLIENTS)\\r\\nTEXT ANALYTICS - MOTOR VEHICLE CUSTOMER REVIEW DATA * Received customer feedback survey data for past one year. Performed sentiment (Positive, Negative & Neutral) and time series analysis on customer comments across all 4 categories.\\r\\n* Created heat map of terms by survey category based on frequency of words * Extracted Positive and Negative words across all the Survey categories and plotted Word cloud.\\r\\n* Created customized tableau dashboards for effective reporting and visualizations.\\r\\nCHATBOT * Developed a user friendly chatbot for one of our Products which handle simple questions about hours of operation, reservation options and so on.\\r\\n* This chat bot serves entire product related questions. Giving overview of tool via QA platform and also give recommendation responses so that user question to build chain of relevant answer.\\r\\n* This too has intelligence to build the pipeline of questions as per user requirement and asks the relevant /recommended questions.\\r\\n\\r\\nTools & Technologies: Python, Natural language processing, NLTK, spacy, topic modelling, Sentiment analysis, Word Embedding, scikit-learn, JavaScript/JQuery, SqlServer\\r\\n\\r\\nINFORMATION GOVERNANCE\\r\\nOrganizations to make informed decisions about all of the information they store. The integrated Information Governance portfolio synthesizes intelligence across unstructured data sources and facilitates action to ensure organizations are best positioned to counter information risk.\\r\\n* Scan data from multiple sources of formats and parse different file formats, extract Meta data information, push results for indexing elastic search and created customized, interactive dashboards using kibana.\\r\\n* Preforming ROT Analysis on the data which give information of data which helps identify content that is either Redundant, Outdated, or Trivial.\\r\\n* Preforming full-text search analysis on elastic search with predefined methods which can tag as (PII) personally identifiable information (social security numbers, addresses, names, etc.) which frequently targeted during cyber-attacks.\\r\\nTools & Technologies: Python, Flask, Elastic Search, Kibana\\r\\n\\r\\nFRAUD ANALYTIC PLATFORM\\r\\nFraud Analytics and investigative platform to review all red flag cases.\\r\\nâ\\x80¢ FAP is a Fraud Analytics and investigative platform with inbuilt case manager and suite of Analytics for various ERP systems.\\r\\n* It can be used by clients to interrogate their Accounting systems for identifying the anomalies which can be indicators of fraud by running advanced analytics\\r\\nTools & Technologies: HTML, JavaScript, SqlServer, JQuery, CSS, Bootstrap, Node.js, D3.js, DC.js'"
      ]
     },
     "execution_count": 9,
     "metadata": {},
     "output_type": "execute_result"
    }
   ],
   "source": [
    "df['Resume'][0]"
   ]
  },
  {
   "cell_type": "markdown",
   "id": "24156dfe",
   "metadata": {},
   "source": [
    "## Cleaning the Resume Data"
   ]
  },
  {
   "cell_type": "code",
   "execution_count": 10,
   "id": "cc21f889",
   "metadata": {},
   "outputs": [],
   "source": [
    "import re\n",
    "import nltk\n",
    "from nltk.stem import WordNetLemmatizer\n",
    "from nltk.corpus import stopwords\n",
    "from nltk.tokenize import word_tokenize\n",
    "\n",
    "lemmatizer = WordNetLemmatizer()\n",
    "stop_words = set(stopwords.words('english'))\n",
    "\n",
    "def cleanResume(txt):\n",
    "    cleantxt = re.sub('https\\S+', '', txt)\n",
    "    cleantxt = re.sub(r'@\\S+|#\\S+', '', cleantxt)\n",
    "    cleantxt = re.sub(r'[^\\w\\s]', '', cleantxt)\n",
    "    \n",
    "    tokens = word_tokenize(cleantxt)\n",
    "    \n",
    "    cleantxt = [lemmatizer.lemmatize(word.lower()) for word in tokens if word.lower() not in stop_words]\n",
    "    \n",
    "    return ' '.join(cleantxt)"
   ]
  },
  {
   "cell_type": "code",
   "execution_count": 11,
   "id": "18f3c4e3",
   "metadata": {},
   "outputs": [
    {
     "data": {
      "text/plain": [
       "'sample sentence harleen activity'"
      ]
     },
     "execution_count": 11,
     "metadata": {},
     "output_type": "execute_result"
    }
   ],
   "source": [
    "cleanResume('This is sample sentence https://google.com @gmail.com harleen activities')"
   ]
  },
  {
   "cell_type": "code",
   "execution_count": 12,
   "id": "7c1fac84",
   "metadata": {},
   "outputs": [],
   "source": [
    "df['Resume']=df['Resume'].apply(lambda x: cleanResume(x))"
   ]
  },
  {
   "cell_type": "code",
   "execution_count": 13,
   "id": "fd882eec",
   "metadata": {},
   "outputs": [
    {
     "data": {
      "text/plain": [
       "'skill â r â python â sap hana â tableau â sap hana sql â sap hana pal â m sql â sap lumira â c â linear programming â data modelling â advance analytics â scm analytics â retail analytics âsocial medium analytics â nlp education detail january 2017 january 2018 pgdm business analytics great lake institute management illinois institute technology january 2013 bachelor engineering electronics communication bengaluru karnataka new horizon college engineering bangalore visvesvaraya technological university data science consultant consultant deloitte usi skill detail linear programming exprience 6 month retail exprience 6 month retail marketing exprience 6 month scm exprience 6 month sql exprience le 1 year month deep learning exprience le 1 year month machine learning exprience le 1 year month python exprience le 1 year month r exprience le 1 year monthscompany detail company deloitte usi description project involved analysing historic deal coming insight optimize future deal role given raw data carried end end analysis presented insight client key responsibility â extract data client system across geography â understand build report tableau infer meaningful insight optimize price find process blockade technical environment r tableau industry cross industry service area cross industry product project name handwriting recognition consultant 3 month project involved taking handwritten image converting digital text image object detection sentence creation role developing sentence correction functionality key responsibility â gather data large enough capture english word â train lstm model word technical environment python industry finance service area financial service bi development project name swift consultant 8 month project develop analytics infrastructure top sap s4 would user view financial report respective department reporting also included forecasting expense role leading offshore team key responsibility â design develop data model reporting â develop etl data flow â validate various report technical environment sap hana tableau sap ao industry healthcare analytics service area life science product development project name clinical healthcare system consultant 2 month project develop analytics infrastructure top argus would allow user query faster provide advance analytics capability role involved design deploy phase performed lot data restructuring built model insight key responsibility â design develop data model reporting â develop deploy analytical model â validate various report technical environment data modelling sap hana tableau nlp industry fmcg service area trade promotion project name consumption based planning flower food consultant 8 month project involved setting crm cbp module role involved key data decomposition activity setting base future year forecast course project developed various model carried key performance improvement key responsibility â design develop hana model decomposition â develop data flow forecast â developed various view reporting customersalesfunds â validate various report bobj technical environment data modelling sap hana bobj time series forecasting internal initiative industry fmcg customer segmentation rfm analysis consultant 3 month initiative involved setting hanapython interface advance analytics python course successfully segmented data five core segment using kmeans carried rfm analysis python also developed algorithm categorize new customer defined bucket technical environment anaconda3 python36 hana sps12 industry telecom invoice state detection consultant 1 month initiative reduce manual effort verifying closed open invoice manually involved development decision tree classify openclosed invoice enabled effort reduction 60 technical environment r sap pal sap hana sps12 accenture experience industry analytics cross industry process analytics sap senior developer 19 month accenture solution pvt ltd india project involved development sap analytics tool process analytics ipa role develop database object data model provide operational insight client role developed various finance related kpis spearheaded various deployment introduced sap predictive analytics reduce development time reuse functionality kpis prepared production planning report key responsibility â involved information gather phase â designed implemented sap hana data modelling using attribute view analytic view calculation view â developed various kpis individually using complex sql script calculation view â created procedure hana database â took ownership developed dashboard functionality â involved building data processing algorithm executed r server cluster analysis technical environment r sap hana tsql industry cross industry accenture testing accelerator sap database developer 21 month accenture solution pvt ltd india role taken care development activity atas tool also completed various deployment product apart activity also actively involved maintenance database server production quality key responsibility â analyzing business requirement understanding scope getting requirement clarified interacting business transform requirement generate attribute mapping document reviewing mapping specification documentation â create update database object like table view stored procedure function package â monitored sql server error log application log sql server agent â prepared data flow diagram entity relationship diagram using uml â responsible designing developing normalization database table â experience performance tuning using sql profiler â involved qa uat knowledge transfer support activity technical environment sql server 20082014 visual studio 2010 window server performance monitor sql server profiler c plsql tsql'"
      ]
     },
     "execution_count": 13,
     "metadata": {},
     "output_type": "execute_result"
    }
   ],
   "source": [
    "df['Resume'][3]"
   ]
  },
  {
   "cell_type": "code",
   "execution_count": 14,
   "id": "e2e769d9",
   "metadata": {},
   "outputs": [],
   "source": [
    "from sklearn.preprocessing import LabelEncoder\n",
    "label_encoder= LabelEncoder()\n",
    "df['Category']= label_encoder.fit_transform(df['Category'])"
   ]
  },
  {
   "cell_type": "code",
   "execution_count": 15,
   "id": "fe30e698",
   "metadata": {},
   "outputs": [
    {
     "data": {
      "text/plain": [
       "0       6\n",
       "1       6\n",
       "2       6\n",
       "3       6\n",
       "4       6\n",
       "       ..\n",
       "957    23\n",
       "958    23\n",
       "959    23\n",
       "960    23\n",
       "961    23\n",
       "Name: Category, Length: 962, dtype: int64"
      ]
     },
     "execution_count": 15,
     "metadata": {},
     "output_type": "execute_result"
    }
   ],
   "source": [
    "df['Category']"
   ]
  },
  {
   "cell_type": "markdown",
   "id": "8d15c85d",
   "metadata": {},
   "source": [
    "## Feature Extraction"
   ]
  },
  {
   "cell_type": "code",
   "execution_count": 16,
   "id": "66ebc4c9",
   "metadata": {},
   "outputs": [],
   "source": [
    "from sklearn.feature_extraction.text import TfidfVectorizer\n",
    "tfidf = TfidfVectorizer(stop_words='english')\n",
    "\n",
    "tfidf.fit(df['Resume'])\n",
    "requiredText  = tfidf.transform(df['Resume'])"
   ]
  },
  {
   "cell_type": "code",
   "execution_count": 17,
   "id": "f44f9b4f",
   "metadata": {},
   "outputs": [
    {
     "data": {
      "text/html": [
       "<div>\n",
       "<style scoped>\n",
       "    .dataframe tbody tr th:only-of-type {\n",
       "        vertical-align: middle;\n",
       "    }\n",
       "\n",
       "    .dataframe tbody tr th {\n",
       "        vertical-align: top;\n",
       "    }\n",
       "\n",
       "    .dataframe thead th {\n",
       "        text-align: right;\n",
       "    }\n",
       "</style>\n",
       "<table border=\"1\" class=\"dataframe\">\n",
       "  <thead>\n",
       "    <tr style=\"text-align: right;\">\n",
       "      <th></th>\n",
       "      <th>Category</th>\n",
       "      <th>Resume</th>\n",
       "    </tr>\n",
       "  </thead>\n",
       "  <tbody>\n",
       "    <tr>\n",
       "      <th>0</th>\n",
       "      <td>6</td>\n",
       "      <td>skill programming language python panda numpy ...</td>\n",
       "    </tr>\n",
       "    <tr>\n",
       "      <th>1</th>\n",
       "      <td>6</td>\n",
       "      <td>education detail may 2013 may 2017 uitrgpv dat...</td>\n",
       "    </tr>\n",
       "    <tr>\n",
       "      <th>2</th>\n",
       "      <td>6</td>\n",
       "      <td>area interest deep learning control system des...</td>\n",
       "    </tr>\n",
       "    <tr>\n",
       "      <th>3</th>\n",
       "      <td>6</td>\n",
       "      <td>skill â r â python â sap hana â tableau â sap ...</td>\n",
       "    </tr>\n",
       "    <tr>\n",
       "      <th>4</th>\n",
       "      <td>6</td>\n",
       "      <td>education detail mca ymcaust faridabad haryana...</td>\n",
       "    </tr>\n",
       "    <tr>\n",
       "      <th>...</th>\n",
       "      <td>...</td>\n",
       "      <td>...</td>\n",
       "    </tr>\n",
       "    <tr>\n",
       "      <th>957</th>\n",
       "      <td>23</td>\n",
       "      <td>computer skill â proficient m office word basi...</td>\n",
       "    </tr>\n",
       "    <tr>\n",
       "      <th>958</th>\n",
       "      <td>23</td>\n",
       "      <td>â willingness accept challenge â positive thin...</td>\n",
       "    </tr>\n",
       "    <tr>\n",
       "      <th>959</th>\n",
       "      <td>23</td>\n",
       "      <td>personal skill â quick learner â eagerness lea...</td>\n",
       "    </tr>\n",
       "    <tr>\n",
       "      <th>960</th>\n",
       "      <td>23</td>\n",
       "      <td>computer skill software knowledge mspower poin...</td>\n",
       "    </tr>\n",
       "    <tr>\n",
       "      <th>961</th>\n",
       "      <td>23</td>\n",
       "      <td>skill set o window xp788110 database mysql sql...</td>\n",
       "    </tr>\n",
       "  </tbody>\n",
       "</table>\n",
       "<p>962 rows × 2 columns</p>\n",
       "</div>"
      ],
      "text/plain": [
       "     Category                                             Resume\n",
       "0           6  skill programming language python panda numpy ...\n",
       "1           6  education detail may 2013 may 2017 uitrgpv dat...\n",
       "2           6  area interest deep learning control system des...\n",
       "3           6  skill â r â python â sap hana â tableau â sap ...\n",
       "4           6  education detail mca ymcaust faridabad haryana...\n",
       "..        ...                                                ...\n",
       "957        23  computer skill â proficient m office word basi...\n",
       "958        23  â willingness accept challenge â positive thin...\n",
       "959        23  personal skill â quick learner â eagerness lea...\n",
       "960        23  computer skill software knowledge mspower poin...\n",
       "961        23  skill set o window xp788110 database mysql sql...\n",
       "\n",
       "[962 rows x 2 columns]"
      ]
     },
     "execution_count": 17,
     "metadata": {},
     "output_type": "execute_result"
    }
   ],
   "source": [
    "df"
   ]
  },
  {
   "cell_type": "code",
   "execution_count": 18,
   "id": "70720916",
   "metadata": {},
   "outputs": [
    {
     "data": {
      "text/plain": [
       "<962x7152 sparse matrix of type '<class 'numpy.float64'>'\n",
       "\twith 156125 stored elements in Compressed Sparse Row format>"
      ]
     },
     "execution_count": 18,
     "metadata": {},
     "output_type": "execute_result"
    }
   ],
   "source": [
    "requiredText"
   ]
  },
  {
   "cell_type": "code",
   "execution_count": 19,
   "id": "ee1a4b6d",
   "metadata": {},
   "outputs": [],
   "source": [
    "x=requiredText\n",
    "y=df['Category']"
   ]
  },
  {
   "cell_type": "code",
   "execution_count": 20,
   "id": "6c0308ec",
   "metadata": {},
   "outputs": [],
   "source": [
    "from sklearn.model_selection import train_test_split"
   ]
  },
  {
   "cell_type": "code",
   "execution_count": 21,
   "id": "93dc9ca9",
   "metadata": {},
   "outputs": [],
   "source": [
    "x_train, x_test, y_train, y_test= train_test_split(x, y, test_size=0.2, random_state=42)"
   ]
  },
  {
   "cell_type": "code",
   "execution_count": 22,
   "id": "58391859",
   "metadata": {},
   "outputs": [
    {
     "name": "stdout",
     "output_type": "stream",
     "text": [
      "(769, 7152) (193, 7152)\n"
     ]
    }
   ],
   "source": [
    "print(x_train.shape, x_test.shape)"
   ]
  },
  {
   "cell_type": "markdown",
   "id": "9a64bf23",
   "metadata": {},
   "source": [
    "## Training the Model"
   ]
  },
  {
   "cell_type": "code",
   "execution_count": 23,
   "id": "7f106284",
   "metadata": {},
   "outputs": [],
   "source": [
    "from sklearn.model_selection import GridSearchCV\n",
    "from sklearn.ensemble import RandomForestClassifier, AdaBoostClassifier, GradientBoostingClassifier, ExtraTreesClassifier\n",
    "from sklearn.svm import SVC\n",
    "from sklearn.neighbors import KNeighborsClassifier\n",
    "from sklearn.naive_bayes import MultinomialNB\n",
    "from sklearn.linear_model import LogisticRegression \n",
    "\n",
    "model_params = [\n",
    "    {\n",
    "        'model': RandomForestClassifier(),\n",
    "        'params': {\n",
    "            'n_estimators': [64, 100, 128],\n",
    "            'max_features': ['sqrt', 'log2'],\n",
    "            'criterion': ['gini', 'entropy']\n",
    "        }\n",
    "    },\n",
    "    {\n",
    "        'model': AdaBoostClassifier(algorithm='SAMME'),\n",
    "        'params': {\n",
    "            'n_estimators': [50, 100, 150],\n",
    "            'learning_rate': [0.5, 1.0, 1.5]\n",
    "        }\n",
    "    },\n",
    "    {\n",
    "        'model': GradientBoostingClassifier(),\n",
    "        'params': {\n",
    "            'n_estimators': [100, 150],\n",
    "            'learning_rate': [0.1, 0.2, 0.3],\n",
    "            'max_depth': [3, 5, 7]\n",
    "        }\n",
    "    },\n",
    "    {\n",
    "        'model': SVC(),\n",
    "        'params': {\n",
    "            'C': [0.1, 1, 10],\n",
    "            'kernel': ['linear', 'rbf', 'poly'],\n",
    "            'gamma': ['scale', 'auto']\n",
    "        }\n",
    "    },\n",
    "    {\n",
    "        'model': KNeighborsClassifier(),\n",
    "        'params': {\n",
    "            'n_neighbors': [3, 5, 7],\n",
    "            'weights': ['uniform', 'distance'],\n",
    "            'metric': ['euclidean', 'manhattan']\n",
    "        }\n",
    "    },\n",
    "    {\n",
    "        'model': MultinomialNB(),\n",
    "        'params': {\n",
    "            'alpha': [0.5, 1.0, 1.5]\n",
    "        }\n",
    "    },\n",
    "    {\n",
    "        'model': LogisticRegression(),\n",
    "        'params': {\n",
    "            'C': [0.1, 1, 10],\n",
    "            'solver': ['liblinear', 'lbfgs'],\n",
    "            'multi_class': ['ovr', 'multinomial']\n",
    "        }\n",
    "    }\n",
    "    \n",
    "]\n",
    "\n"
   ]
  },
  {
   "cell_type": "code",
   "execution_count": 24,
   "id": "635bb71f",
   "metadata": {},
   "outputs": [
    {
     "name": "stderr",
     "output_type": "stream",
     "text": [
      "/Users/harleen/anaconda3/lib/python3.11/site-packages/sklearn/model_selection/_validation.py:547: FitFailedWarning: \n",
      "15 fits failed out of a total of 60.\n",
      "The score on these train-test partitions for these parameters will be set to nan.\n",
      "If these failures are not expected, you can try to debug them by setting error_score='raise'.\n",
      "\n",
      "Below are more details about the failures:\n",
      "--------------------------------------------------------------------------------\n",
      "15 fits failed with the following error:\n",
      "Traceback (most recent call last):\n",
      "  File \"/Users/harleen/anaconda3/lib/python3.11/site-packages/sklearn/model_selection/_validation.py\", line 895, in _fit_and_score\n",
      "    estimator.fit(X_train, y_train, **fit_params)\n",
      "  File \"/Users/harleen/anaconda3/lib/python3.11/site-packages/sklearn/base.py\", line 1474, in wrapper\n",
      "    return fit_method(estimator, *args, **kwargs)\n",
      "           ^^^^^^^^^^^^^^^^^^^^^^^^^^^^^^^^^^^^^^\n",
      "  File \"/Users/harleen/anaconda3/lib/python3.11/site-packages/sklearn/linear_model/_logistic.py\", line 1212, in fit\n",
      "    multi_class = _check_multi_class(self.multi_class, solver, len(self.classes_))\n",
      "                  ^^^^^^^^^^^^^^^^^^^^^^^^^^^^^^^^^^^^^^^^^^^^^^^^^^^^^^^^^^^^^^^^\n",
      "  File \"/Users/harleen/anaconda3/lib/python3.11/site-packages/sklearn/linear_model/_logistic.py\", line 99, in _check_multi_class\n",
      "    raise ValueError(\"Solver %s does not support a multinomial backend.\" % solver)\n",
      "ValueError: Solver liblinear does not support a multinomial backend.\n",
      "\n",
      "  warnings.warn(some_fits_failed_message, FitFailedWarning)\n",
      "/Users/harleen/anaconda3/lib/python3.11/site-packages/sklearn/model_selection/_search.py:1051: UserWarning: One or more of the test scores are non-finite: [0.76066548 0.4174009         nan 0.44857822 0.99350649 0.99350649\n",
      "        nan 0.99350649 0.9961039  0.9961039         nan 0.9961039 ]\n",
      "  warnings.warn(\n"
     ]
    }
   ],
   "source": [
    "best_models=[]\n",
    "for i in range(len(model_params)):\n",
    "    model=model_params[i]['model']\n",
    "    param= model_params[i]['params']\n",
    "    \n",
    "    grid= GridSearchCV(model, param, cv=5)\n",
    "    grid.fit(x_train, y_train)\n",
    "    \n",
    "    best_models.append({\n",
    "        'model': grid.best_estimator_,\n",
    "        'params': grid.best_params_,\n",
    "        'score': grid.best_score_\n",
    "    })\n",
    "    "
   ]
  },
  {
   "cell_type": "code",
   "execution_count": 25,
   "id": "ce6e21b7",
   "metadata": {},
   "outputs": [
    {
     "name": "stdout",
     "output_type": "stream",
     "text": [
      "Best model: RandomForestClassifier()\n",
      "Best parameters: {'criterion': 'gini', 'max_features': 'sqrt', 'n_estimators': 100}\n",
      "Best score: 0.996103896103896\n",
      "\n",
      "Best model: AdaBoostClassifier(algorithm='SAMME', learning_rate=1.5, n_estimators=100)\n",
      "Best parameters: {'learning_rate': 1.5, 'n_estimators': 100}\n",
      "Best score: 0.4303369832781597\n",
      "\n",
      "Best model: GradientBoostingClassifier()\n",
      "Best parameters: {'learning_rate': 0.1, 'max_depth': 3, 'n_estimators': 100}\n",
      "Best score: 0.9974025974025974\n",
      "\n",
      "Best model: SVC(C=1, kernel='linear')\n",
      "Best parameters: {'C': 1, 'gamma': 'scale', 'kernel': 'linear'}\n",
      "Best score: 0.9935064935064934\n",
      "\n",
      "Best model: KNeighborsClassifier(metric='euclidean', n_neighbors=7, weights='distance')\n",
      "Best parameters: {'metric': 'euclidean', 'n_neighbors': 7, 'weights': 'distance'}\n",
      "Best score: 0.9935064935064937\n",
      "\n",
      "Best model: MultinomialNB(alpha=0.5)\n",
      "Best parameters: {'alpha': 0.5}\n",
      "Best score: 0.9661998132586367\n",
      "\n",
      "Best model: LogisticRegression(C=10, multi_class='ovr', solver='liblinear')\n",
      "Best parameters: {'C': 10, 'multi_class': 'ovr', 'solver': 'liblinear'}\n",
      "Best score: 0.996103896103896\n",
      "\n"
     ]
    }
   ],
   "source": [
    "for best_model in best_models:\n",
    "    print(f\"Best model: {best_model['model']}\")\n",
    "    print(f\"Best parameters: {best_model['params']}\")\n",
    "    print(f\"Best score: {best_model['score']}\\n\")"
   ]
  },
  {
   "cell_type": "code",
   "execution_count": 26,
   "id": "af919418",
   "metadata": {},
   "outputs": [],
   "source": [
    "from sklearn.metrics import accuracy_score\n",
    "\n",
    "best_model = GradientBoostingClassifier(learning_rate=0.1, max_depth=3, n_estimators=100)\n",
    "best_model.fit(x_train, y_train)\n",
    "y_pred= best_model.predict(x_test)"
   ]
  },
  {
   "cell_type": "code",
   "execution_count": 27,
   "id": "563a8139",
   "metadata": {},
   "outputs": [
    {
     "name": "stdout",
     "output_type": "stream",
     "text": [
      "[15 15 15 13 14 17 16  2  0 14 13 12 16 23 20  5  6  4 10  9 19  1 10 23\n",
      " 23  6 22 22  2 12 18  1  8 24 11 23  7 12 24  8 18  6  8 19 24 23 21  1\n",
      " 15  4 15 22 11  5 15 13  1 19  5 12 22 22 20 24 21 18 12 10 10 20 10  8\n",
      "  9 21 17 21  0 17 16 14 15 11 11  8 20  3 19  8  0  2  9 10  2 23 20 20\n",
      " 23 12 18 12  7 16  8 14 18  3 14 19 14 14 15 18  8  2 21 18 23 10 23  5\n",
      " 11 15 12  3  5  3  7 12 19  8 20  8  3 15  9 19  1 23 21  5 20 15 16  7\n",
      "  7  8 15 18  1 15 13 20  7  4 18 11  5 15  5 12  9 22 18 21  8 23  4 12\n",
      " 24 16 15 22  8 22  3 16 23 23 12  7 16 18  5  3 18  8 23 23 20  6  6  7\n",
      " 23]\n"
     ]
    }
   ],
   "source": [
    "print(y_pred)"
   ]
  },
  {
   "cell_type": "code",
   "execution_count": 28,
   "id": "925ac007",
   "metadata": {},
   "outputs": [
    {
     "name": "stdout",
     "output_type": "stream",
     "text": [
      "1.0\n"
     ]
    }
   ],
   "source": [
    "print(accuracy_score(y_test,y_pred))"
   ]
  },
  {
   "cell_type": "code",
   "execution_count": 29,
   "id": "2375725e",
   "metadata": {},
   "outputs": [],
   "source": [
    "import pickle\n",
    "pickle.dump(tfidf,open('tfidf.pkl','wb'))\n",
    "pickle.dump(best_model, open('best_model.pkl', 'wb'))  "
   ]
  },
  {
   "cell_type": "code",
   "execution_count": 30,
   "id": "8974153d",
   "metadata": {},
   "outputs": [],
   "source": [
    "myresume='''\n",
    "\n",
    "• Programming Languages: C, C++, Python\n",
    "• Web Development: HTML, CSS, JavaScript, PHP, Node.js\n",
    "• Databases: MySQL, SQLite\n",
    "• Frameworks: Scikit Learn, TensorFlow, Flask, Streamlit\n",
    "• Libraries: NumPy, Pandas, Seaborn,Scipy, BeautifulSoup, urllib, XML, JSON\n",
    "\n",
    "I am a versatile data scientist with expertise in a wide\n",
    "range of projects, including machine learning,\n",
    "recommendation systems, deep learning, and computer\n",
    "vision. Throughout my career, I have successfully\n",
    "developed and deployed various machine learning models\n",
    "to solve complex problems and drive data-driven\n",
    "decision-making\n",
    "Machine Learning\n",
    "Data Science'''"
   ]
  },
  {
   "cell_type": "code",
   "execution_count": 31,
   "id": "ed443003",
   "metadata": {},
   "outputs": [
    {
     "name": "stdout",
     "output_type": "stream",
     "text": [
      "Predicted Category: Data Science\n",
      "6\n"
     ]
    }
   ],
   "source": [
    "clf = pickle.load(open('best_model.pkl', 'rb'))\n",
    "\n",
    "cleaned_resume = cleanResume(myresume)\n",
    "\n",
    "input_features = tfidf.transform([cleaned_resume])\n",
    "\n",
    "prediction_id = clf.predict(input_features)[0]\n",
    "\n",
    "# Map category ID to category name\n",
    "category_mapping = {\n",
    "    15: \"Java Developer\",\n",
    "    23: \"Testing\",\n",
    "    8: \"DevOps Engineer\",\n",
    "    20: \"Python Developer\",\n",
    "    24: \"Web Designing\",\n",
    "    12: \"HR\",\n",
    "    13: \"Hadoop\",\n",
    "    3: \"Blockchain\",\n",
    "    10: \"ETL Developer\",\n",
    "    18: \"Operations Manager\",\n",
    "    6: \"Data Science\",\n",
    "    22: \"Sales\",\n",
    "    16: \"Mechanical Engineer\",\n",
    "    1: \"Arts\",\n",
    "    7: \"Database\",\n",
    "    11: \"Electrical Engineering\",\n",
    "    14: \"Health and fitness\",\n",
    "    19: \"PMO\",\n",
    "    4: \"Business Analyst\",\n",
    "    9: \"DotNet Developer\",\n",
    "    2: \"Automation Testing\",\n",
    "    17: \"Network Security Engineer\",\n",
    "    21: \"SAP Developer\",\n",
    "    5: \"Civil Engineer\",\n",
    "    0: \"Advocate\",\n",
    "}\n",
    "\n",
    "category_name = category_mapping.get(prediction_id, \"Unknown\")\n",
    "\n",
    "print(\"Predicted Category:\", category_name)\n",
    "print(prediction_id)"
   ]
  }
 ],
 "metadata": {
  "kernelspec": {
   "display_name": ".backend",
   "language": "python",
   "name": "python3"
  },
  "language_info": {
   "codemirror_mode": {
    "name": "ipython",
    "version": 3
   },
   "file_extension": ".py",
   "mimetype": "text/x-python",
   "name": "python",
   "nbconvert_exporter": "python",
   "pygments_lexer": "ipython3",
   "version": "3.13.1"
  }
 },
 "nbformat": 4,
 "nbformat_minor": 5
}
